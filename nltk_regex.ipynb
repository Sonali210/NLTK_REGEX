{
  "nbformat": 4,
  "nbformat_minor": 0,
  "metadata": {
    "colab": {
      "name": "nltk_regex.ipynb",
      "provenance": [],
      "collapsed_sections": []
    },
    "kernelspec": {
      "name": "python3",
      "display_name": "Python 3"
    },
    "language_info": {
      "name": "python"
    }
  },
  "cells": [
    {
      "cell_type": "code",
      "metadata": {
        "id": "2DsdEfTCNiAH"
      },
      "source": [
        "import re\n",
        "import nltk\n",
        "from nltk.corpus import wordnet"
      ],
      "execution_count": 1,
      "outputs": []
    },
    {
      "cell_type": "code",
      "metadata": {
        "colab": {
          "base_uri": "https://localhost:8080/"
        },
        "id": "J-U6keWDN8_w",
        "outputId": "861d8092-cbf7-421c-f976-ca6ad206e425"
      },
      "source": [
        "nltk.download('wordnet')"
      ],
      "execution_count": 2,
      "outputs": [
        {
          "output_type": "stream",
          "text": [
            "[nltk_data] Downloading package wordnet to /root/nltk_data...\n",
            "[nltk_data]   Unzipping corpora/wordnet.zip.\n"
          ],
          "name": "stdout"
        },
        {
          "output_type": "execute_result",
          "data": {
            "text/plain": [
              "True"
            ]
          },
          "metadata": {
            "tags": []
          },
          "execution_count": 2
        }
      ]
    },
    {
      "cell_type": "code",
      "metadata": {
        "colab": {
          "base_uri": "https://localhost:8080/"
        },
        "id": "qaKNTzysNs55",
        "outputId": "78e01d1f-ef53-4d61-8b36-11e06295fb17"
      },
      "source": [
        "# Building a list of Keywords\n",
        "\n",
        "list_words=['hi', 'booking','bye', 'thanks']\n",
        "\n",
        "list_syn={}\n",
        "\n",
        "for word in list_words:\n",
        "\n",
        "    synonyms=[]\n",
        "\n",
        "    for syn in wordnet.synsets(word):\n",
        "\n",
        "        for lem in syn.lemmas():\n",
        "\n",
        "\n",
        "            # Remove any special characters from synonym strings\n",
        "\n",
        "            lem_name = re.sub('[^a-zA-Z0-9 \\n\\.]', ' ', lem.name())\n",
        "\n",
        "            synonyms.append(lem_name)\n",
        "\n",
        "\n",
        "    list_syn[word]=set(synonyms)\n",
        "\n",
        "\n",
        "print (list_syn)"
      ],
      "execution_count": 3,
      "outputs": [
        {
          "output_type": "stream",
          "text": [
            "{'hi': {'HI', 'Hawai i', 'hullo', 'hi', 'Hawaii', 'Aloha State', 'how do you do', 'hello', 'howdy'}, 'booking': {'book', 'booking', 'hold', 'reservation', 'engagement', 'reserve'}, 'bye': {'goodby', 'pass', 'so long', 'arrivederci', 'bye bye', 'goodbye', 'adios', 'adieu', 'bye', 'au revoir', 'auf wiedersehen', 'good bye', 'cheerio', 'sayonara', 'good day', 'good by'}, 'thanks': {'thank', 'thanks', 'give thanks'}}\n"
          ],
          "name": "stdout"
        }
      ]
    },
    {
      "cell_type": "code",
      "metadata": {
        "colab": {
          "base_uri": "https://localhost:8080/"
        },
        "id": "KL-1AsyVN1iH",
        "outputId": "28542aa8-2cb5-49b2-ac76-e6436ea452d6"
      },
      "source": [
        "# Building dictionary of Intents & Keywords\n",
        "keywords={}\n",
        "keywords_dict={}\n",
        "\n",
        "# Defining a new key in the keywords dictionary\n",
        "#1\n",
        "keywords['greet']=[]\n",
        "# Populating the values in the keywords dictionary with synonyms of keywords formatted with RegEx metacharacters \n",
        "\n",
        "for synonym in list(list_syn['hi']):\n",
        "    keywords['greet'].append('.*\\\\b'+synonym+'\\\\b.*')\n",
        "\n",
        "#2\n",
        "keywords['reserve']=[]\n",
        "\n",
        "for synonym in list(list_syn['booking']):\n",
        "    keywords['reserve'].append('.*\\\\b'+synonym+'\\\\b.*')\n",
        "\n",
        "#3\n",
        "keywords['leave']=[]\n",
        "\n",
        "for synonym in list(list_syn['bye']):\n",
        "    keywords['leave'].append('.*\\\\b'+synonym+'\\\\b.*')\n",
        "\n",
        "\n",
        "#4\n",
        "keywords['thanks']=[]\n",
        "\n",
        "for synonym in list(list_syn['thanks']):\n",
        "    keywords['thanks'].append('.*\\\\b'+synonym+'\\\\b.*')\n",
        "\n",
        "for intent, keys in keywords.items():\n",
        "\n",
        "\n",
        "    # Joining the values in the keywords dictionary with the OR (|) operator updating them in keywords_dict dictionary\n",
        "\n",
        "    keywords_dict[intent]=re.compile('|'.join(keys))\n",
        "\n",
        "print (keywords_dict)"
      ],
      "execution_count": 4,
      "outputs": [
        {
          "output_type": "stream",
          "text": [
            "{'greet': re.compile('.*\\\\bHI\\\\b.*|.*\\\\bHawai i\\\\b.*|.*\\\\bhullo\\\\b.*|.*\\\\bhi\\\\b.*|.*\\\\bHawaii\\\\b.*|.*\\\\bAloha State\\\\b.*|.*\\\\bhow do you do\\\\b.*|.*\\\\bhello\\\\b.*|.*\\\\bhowdy\\\\b.*'), 'reserve': re.compile('.*\\\\bbook\\\\b.*|.*\\\\bbooking\\\\b.*|.*\\\\bhold\\\\b.*|.*\\\\breservation\\\\b.*|.*\\\\bengagement\\\\b.*|.*\\\\breserve\\\\b.*'), 'leave': re.compile('.*\\\\bgoodby\\\\b.*|.*\\\\bpass\\\\b.*|.*\\\\bso long\\\\b.*|.*\\\\barrivederci\\\\b.*|.*\\\\bbye bye\\\\b.*|.*\\\\bgoodbye\\\\b.*|.*\\\\badios\\\\b.*|.*\\\\badieu\\\\b.*|.*\\\\bbye\\\\b.*|.*\\\\bau revoir\\\\b.*|.*\\\\bauf wiedersehen\\\\b.*), 'thanks': re.compile('.*\\\\bthank\\\\b.*|.*\\\\bthanks\\\\b.*|.*\\\\bgive thanks\\\\b.*')}\n"
          ],
          "name": "stdout"
        }
      ]
    },
    {
      "cell_type": "code",
      "metadata": {
        "id": "zc1glvLgOlsQ"
      },
      "source": [
        "# Building a dictionary of responses\n",
        "\n",
        "responses={\n",
        "\n",
        "    'greet':'Hello! How can I help you today?',\n",
        "\n",
        "    'reserve':'I can help you with reservations.Kindly, fill the form below',\n",
        "\n",
        "    'thanks':'Glad! It helped you!',\n",
        "\n",
        "    'leave':'Have a wonderful day ahead!',\n",
        "\n",
        "    'fallback':'Sorry could not get your question'\n",
        "\n",
        "}"
      ],
      "execution_count": 5,
      "outputs": []
    },
    {
      "cell_type": "code",
      "metadata": {
        "colab": {
          "base_uri": "https://localhost:8080/"
        },
        "id": "zUnzLd2QQrwk",
        "outputId": "c2163300-7521-4e9f-a061-4731761e678b"
      },
      "source": [
        "print (\"Welcome to SWAR! How may I help you?\")\n",
        "while (True):\n",
        "    user_input = input().lower()\n",
        "    matched_intent = None \n",
        "    for intent,pattern in keywords_dict.items():\n",
        "        if re.search(pattern, user_input): \n",
        "            matched_intent=intent  \n",
        "\n",
        "    key='fallback' \n",
        "\n",
        "    if matched_intent in responses:\n",
        "        key = matched_intent \n",
        "    print (responses[key]) "
      ],
      "execution_count": null,
      "outputs": [
        {
          "output_type": "stream",
          "text": [
            "Welcome to SWAR! How may I help you?\n",
            "hi\n",
            "Hello! How can I help you today?\n",
            "I want to make train reservation \n",
            "I can help you with reservations.Kindly, fill the form below\n",
            "thanks\n",
            "Glad! It helped you!\n",
            "bye\n",
            "Have a wonderful day ahead!\n"
          ],
          "name": "stdout"
        }
      ]
    },
    {
      "cell_type": "code",
      "metadata": {
        "id": "fBzwKidRRBYs"
      },
      "source": [
        ""
      ],
      "execution_count": null,
      "outputs": []
    }
  ]
}